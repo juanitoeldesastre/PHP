{
  "nbformat": 4,
  "nbformat_minor": 0,
  "metadata": {
    "colab": {
      "provenance": [],
      "authorship_tag": "ABX9TyMcdFyul+dxP3wTEcENhQhD",
      "include_colab_link": true
    },
    "kernelspec": {
      "name": "python3",
      "display_name": "Python 3"
    },
    "language_info": {
      "name": "python"
    }
  },
  "cells": [
    {
      "cell_type": "markdown",
      "metadata": {
        "id": "view-in-github",
        "colab_type": "text"
      },
      "source": [
        "<a href=\"https://colab.research.google.com/github/juanitoeldesastre/PHP/blob/main/GITHUBDIA2.ipynb\" target=\"_parent\"><img src=\"https://colab.research.google.com/assets/colab-badge.svg\" alt=\"Open In Colab\"/></a>"
      ]
    },
    {
      "cell_type": "code",
      "execution_count": 15,
      "metadata": {
        "colab": {
          "base_uri": "https://localhost:8080/"
        },
        "id": "fbMxCax87t5N",
        "outputId": "24d83dc3-210a-412c-af48-b0cf438035f4"
      },
      "outputs": [
        {
          "output_type": "stream",
          "name": "stdout",
          "text": [
            "  Producto  Precio\n",
            "0  Manzana     5.0\n",
            "1  Durazno    18.5\n",
            "2   Tomate     1.3\n",
            "3     Pera     6.5\n",
            "La suma de los precios es  31.3\n"
          ]
        }
      ],
      "source": [
        "import pandas as pd\n",
        "#crear mi dataframe\n",
        "data={'Producto':['Manzana','Durazno','Tomate','Pera'],\n",
        "      'Precio':[5.0,18.5,1.3,6.5]\n",
        "      }\n",
        "\n",
        "df=pd.DataFrame(data)\n",
        "print(df)\n",
        "\n",
        "suma_precio=df['Precio'].sum()\n",
        "print('La suma de los precios es ',suma_precio)"
      ]
    },
    {
      "cell_type": "code",
      "source": [
        "import pandas as pd\n",
        "#crear mi dataframe\n",
        "churrumino={'Nombre':['German','Lucas','Kevin','Elias'],\n",
        "            'Edad':[37,28,20,5],\n",
        "            'Ciudad':['Trujillo','Puno','Tacna','Moquegua']\n",
        "}\n",
        "#dataframe misma cantidad de elementos en sus columnas\n",
        "df=pd.DataFrame(churrumino)\n",
        "print(churrumino)\n",
        "print(df)"
      ],
      "metadata": {
        "colab": {
          "base_uri": "https://localhost:8080/"
        },
        "id": "wXsdeKrj-VjY",
        "outputId": "6b226971-1e3a-4b90-ea6f-168fcd14dd24"
      },
      "execution_count": 28,
      "outputs": [
        {
          "output_type": "stream",
          "name": "stdout",
          "text": [
            "{'Nombre': ['German', 'Lucas', 'Kevin', 'Elias'], 'Edad': [37, 28, 20, 5], 'Ciudad': ['Trujillo', 'Puno', 'Tacna', 'Moquegua']}\n",
            "   Nombre  Edad    Ciudad\n",
            "0  German    37  Trujillo\n",
            "1   Lucas    28      Puno\n",
            "2   Kevin    20     Tacna\n",
            "3   Elias     5  Moquegua\n"
          ]
        }
      ]
    },
    {
      "cell_type": "code",
      "source": [
        "import pandas as pd\n",
        "\n",
        "# Crear el DataFrame\n",
        "data = {'Producto': ['Manzana', 'Durazno', 'Tomate', 'Pera'],\n",
        "        'Precio': [5.0, 18.5, 1.3, 6.5]}\n",
        "\n",
        "df = pd.DataFrame(data)\n",
        "print(df)\n",
        "\n",
        "# Multiplicar los precios\n",
        "producto_precio = df['Precio'].prod()\n",
        "print('El producto de los precios es', producto_precio)"
      ],
      "metadata": {
        "colab": {
          "base_uri": "https://localhost:8080/"
        },
        "id": "ZLKi0KCAErzH",
        "outputId": "73068700-59cc-421a-ab37-cf88c150d1d2"
      },
      "execution_count": 38,
      "outputs": [
        {
          "output_type": "stream",
          "name": "stdout",
          "text": [
            "  Producto  Precio\n",
            "0  Manzana     5.0\n",
            "1  Durazno    18.5\n",
            "2   Tomate     1.3\n",
            "3     Pera     6.5\n",
            "El producto de los precios es 781.625\n"
          ]
        }
      ]
    },
    {
      "cell_type": "code",
      "source": [
        "import pandas as pd\n",
        "import numpy as np\n",
        "#crear datasframe con datos aleatorios\n",
        "np.random.seed(2) #semilla que guarda los datos de una tabla generada aleatoriamente, como en minecraft\n",
        "df=pd.DataFrame({\n",
        "    'Producto':['Pepino','Pipote','Patuta','Patata','Papito'],\n",
        "    'Precio':np.random.uniform(10,100,size=5),\n",
        "    'Cantidad':np.random.randint(1,50,size=5)\n",
        "})\n",
        "#uniform es decimal y randint es entero\n",
        "print(df)"
      ],
      "metadata": {
        "colab": {
          "base_uri": "https://localhost:8080/"
        },
        "id": "yip0eXm5Ckzh",
        "outputId": "1277160a-ae15-4625-8710-48c719ba2285"
      },
      "execution_count": 90,
      "outputs": [
        {
          "output_type": "stream",
          "name": "stdout",
          "text": [
            "  Producto     Precio  Cantidad\n",
            "0   Pepino  49.239541        35\n",
            "1   Pipote  12.333361        32\n",
            "2   Patuta  59.469623        12\n",
            "3   Patata  49.179015        22\n",
            "4   Papito  47.833102        48\n"
          ]
        }
      ]
    },
    {
      "cell_type": "code",
      "source": [
        "import pandas as pd\n",
        "import numpy as np\n",
        "#crear datasframe con datos aleatorios\n",
        "np.random.seed(2) #semilla que guarda los datos de una tabla generada aleatoriamente, como en minecraft\n",
        "df=pd.DataFrame({\n",
        "    'Producto':['Pepino','Pipote','Patuta','Patata','Papito'],\n",
        "    'Precio':np.random.uniform(10,100,size=5),\n",
        "    'Cantidad':np.random.randint(1,50,size=5)\n",
        "})\n",
        "#uniform es decimal y randint es entero\n",
        "print(df)"
      ],
      "metadata": {
        "id": "2Ru9IzEDI5xv"
      },
      "execution_count": null,
      "outputs": []
    },
    {
      "cell_type": "code",
      "source": [
        "#crear una dataframe con nombre, edad, ciudad, que sean solo 5 elementos\n",
        "#filtrar personas mayores de 30 años que viven en moquegua\n",
        "\n",
        "import pandas as pd\n",
        "import numpy as np\n",
        "#crear dataframe\n",
        "np.random.seed(69)\n",
        "df=pd.DataFrame({\n",
        "    'Nombre':['Jose','Ana','German','LLon','Martha'],\n",
        "    'Edad':np.random.randint(18,50,size=5),\n",
        "    'Ciudad':['Moquegua','Tacna','Lima','Moquegua','Arequipa']\n",
        "})\n",
        "#filtro mayores de 30 ciudad moquegua\n",
        "filtro=(df['Ciudad']=='Moquegua')&(df['Edad']>30)\n",
        "resultado=df[filtro]\n",
        "print(\"Papu este es:\")\n",
        "print(resultado)"
      ],
      "metadata": {
        "colab": {
          "base_uri": "https://localhost:8080/"
        },
        "id": "pW_jGVFEMZZJ",
        "outputId": "1df601fe-a291-4f5f-c188-445d7f0473a7"
      },
      "execution_count": 98,
      "outputs": [
        {
          "output_type": "stream",
          "name": "stdout",
          "text": [
            "Papu este es:\n",
            "  Nombre  Edad    Ciudad\n",
            "0   Jose    40  Moquegua\n"
          ]
        }
      ]
    },
    {
      "cell_type": "code",
      "source": [
        "import pandas as pd\n",
        "import numpy as np\n",
        "\n",
        "#crear dataframe aleatoria\n",
        "\n",
        "np.random.seed(42)\n",
        "df=pd.DataFrame({\n",
        "    'Producto':['Mesa','Escoba','Cuchara','Tenedor'],\n",
        "    'Precio':np.random.uniform(10,100,size=4),\n",
        "    'Cantidad':np.random.randint(1,30,size=4)\n",
        "\n",
        "})\n",
        "#Agregar una nueva columna calculando el ValorTotalPrecio*Cantidad\n",
        "df['Valor Total']=df['Precio']*df['Cantidad']\n",
        "print('DataFrame con nueva columna VALOR TOTAL')\n",
        "print(df)\n",
        "#Eliminamos Cantidad y columna Precio\n",
        "df=df.drop(columns=['Cantidad'])\n",
        "print(\"Eliminamos columna cantidad\")\n",
        "print(df)\n",
        "#Modificar la columna Precio\n",
        "df['Descuento']=df['Precio']*0.52\n",
        "print(\"Aqui mostramos el df\")\n",
        "print(df)"
      ],
      "metadata": {
        "colab": {
          "base_uri": "https://localhost:8080/"
        },
        "id": "HKm0TPBmQLyv",
        "outputId": "49284053-062d-4df3-b2c1-0b1d380fee21"
      },
      "execution_count": 106,
      "outputs": [
        {
          "output_type": "stream",
          "name": "stdout",
          "text": [
            "DataFrame con nueva columna VALOR TOTAL\n",
            "  Producto     Precio  Cantidad  Valor Total\n",
            "0     Mesa  43.708611         7   305.960275\n",
            "1   Escoba  95.564288        26  2484.671477\n",
            "2  Cuchara  75.879455        19  1441.709640\n",
            "3  Tenedor  63.879264        23  1469.223062\n",
            "Eliminamos columna cantidad\n",
            "  Producto     Precio  Valor Total\n",
            "0     Mesa  43.708611   305.960275\n",
            "1   Escoba  95.564288  2484.671477\n",
            "2  Cuchara  75.879455  1441.709640\n",
            "3  Tenedor  63.879264  1469.223062\n",
            "Aqui mostramos el df\n",
            "  Producto     Precio  Valor Total  Descuento\n",
            "0     Mesa  43.708611   305.960275  22.728478\n",
            "1   Escoba  95.564288  2484.671477  49.693430\n",
            "2  Cuchara  75.879455  1441.709640  39.457316\n",
            "3  Tenedor  63.879264  1469.223062  33.217217\n"
          ]
        }
      ]
    },
    {
      "cell_type": "code",
      "source": [],
      "metadata": {
        "colab": {
          "base_uri": "https://localhost:8080/"
        },
        "id": "5owsQcn2U2n_",
        "outputId": "a819894d-0059-40f0-f35d-67540ab8be8a"
      },
      "execution_count": 104,
      "outputs": [
        {
          "output_type": "stream",
          "name": "stdout",
          "text": [
            "Aqui mostramos el df\n"
          ]
        }
      ]
    }
  ]
}